{
 "cells": [
  {
   "cell_type": "code",
   "execution_count": 1,
   "metadata": {},
   "outputs": [],
   "source": [
    "import numpy as np"
   ]
  },
  {
   "cell_type": "code",
   "execution_count": 2,
   "metadata": {},
   "outputs": [],
   "source": [
    "items = [24, 11, 64, 5, 22]\n",
    "capasity = 70\n",
    "\n",
    "result = []"
   ]
  },
  {
   "cell_type": "code",
   "execution_count": 3,
   "metadata": {},
   "outputs": [],
   "source": [
    "def firstFit(result, item):\n",
    "    allocated = False\n",
    "    for i, bin in enumerate(result):\n",
    "        if bin + item <= capasity:\n",
    "            result[i] += item\n",
    "            allocated = True\n",
    "        \n",
    "    if not allocated:\n",
    "        result.append(item)\n",
    "        \n",
    "    return result"
   ]
  },
  {
   "cell_type": "code",
   "execution_count": 4,
   "metadata": {},
   "outputs": [],
   "source": [
    "def nextFit(result, item):\n",
    "    allocated = False\n",
    "    if len(result) > 0:\n",
    "        bin = result[len(result) - 1]\n",
    "        if bin + item <= capasity:\n",
    "            result[len(result) - 1] += item\n",
    "            allocated = True\n",
    "        \n",
    "    if not allocated:\n",
    "        result.append(item)\n",
    "        \n",
    "    return result"
   ]
  },
  {
   "cell_type": "code",
   "execution_count": 5,
   "metadata": {},
   "outputs": [],
   "source": [
    "def bestFit(result, item):\n",
    "    best = float('inf')\n",
    "    pos = None\n",
    "    for i, bin in enumerate(result):\n",
    "        if bin + item <= capasity:\n",
    "            space = capasity - (bin + item)\n",
    "            if space < best:\n",
    "                best = space\n",
    "                pos = i\n",
    "                break\n",
    "        \n",
    "    if pos == None:\n",
    "        result.append(item)\n",
    "    else:\n",
    "        result[pos] += item\n",
    "        \n",
    "    return result"
   ]
  },
  {
   "cell_type": "code",
   "execution_count": 6,
   "metadata": {},
   "outputs": [],
   "source": [
    "def worstFit(result, item):\n",
    "    worst = -1\n",
    "    pos = None\n",
    "    for i, bin in enumerate(result):\n",
    "        if bin + item <= capasity:\n",
    "            space = capasity - (bin + item)\n",
    "            if space > worst:\n",
    "                worst = space\n",
    "                pos = i\n",
    "                break\n",
    "        \n",
    "    if pos == None:\n",
    "        result.append(item)\n",
    "    else:\n",
    "        result[pos] += item\n",
    "        \n",
    "    return result"
   ]
  },
  {
   "cell_type": "code",
   "execution_count": 7,
   "metadata": {},
   "outputs": [
    {
     "name": "stdout",
     "output_type": "stream",
     "text": [
      "[24]\n",
      "[35]\n",
      "[35, 64]\n",
      "[35, 69]\n",
      "[35, 69, 22]\n"
     ]
    }
   ],
   "source": [
    "result = []\n",
    "for item in items:\n",
    "    result = nextFit(result, item)\n",
    "    print(result)"
   ]
  },
  {
   "cell_type": "code",
   "execution_count": 8,
   "metadata": {},
   "outputs": [
    {
     "name": "stdout",
     "output_type": "stream",
     "text": [
      "[35, 69, 22]\n"
     ]
    }
   ],
   "source": [
    "print(result)"
   ]
  },
  {
   "cell_type": "code",
   "execution_count": 9,
   "metadata": {},
   "outputs": [],
   "source": [
    "def fitness(result):\n",
    "    return np.sum(np.square(np.array(result) / capasity)) / len(result)"
   ]
  },
  {
   "cell_type": "code",
   "execution_count": 10,
   "metadata": {},
   "outputs": [
    {
     "data": {
      "text/plain": [
       "0.4401360544217688"
      ]
     },
     "execution_count": 10,
     "metadata": {},
     "output_type": "execute_result"
    }
   ],
   "source": [
    "fitness(result)"
   ]
  },
  {
   "cell_type": "code",
   "execution_count": null,
   "metadata": {},
   "outputs": [],
   "source": []
  }
 ],
 "metadata": {
  "kernelspec": {
   "display_name": "Python 3",
   "language": "python",
   "name": "python3"
  },
  "language_info": {
   "codemirror_mode": {
    "name": "ipython",
    "version": 3
   },
   "file_extension": ".py",
   "mimetype": "text/x-python",
   "name": "python",
   "nbconvert_exporter": "python",
   "pygments_lexer": "ipython3",
   "version": "3.5.2"
  }
 },
 "nbformat": 4,
 "nbformat_minor": 2
}
