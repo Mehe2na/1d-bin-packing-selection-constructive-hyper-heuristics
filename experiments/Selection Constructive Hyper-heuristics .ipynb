{
 "cells": [
  {
   "cell_type": "code",
   "execution_count": 1,
   "metadata": {},
   "outputs": [],
   "source": [
    "import numpy as np\n",
    "import pandas as pd\n",
    "import matplotlib.pyplot as plt"
   ]
  },
  {
   "cell_type": "code",
   "execution_count": 2,
   "metadata": {},
   "outputs": [],
   "source": [
    "def firstFit(result, item):\n",
    "    #print('firstFit')\n",
    "    allocated = False\n",
    "    for i, bin in enumerate(result):\n",
    "        if bin + item <= capasity:\n",
    "            result[i] += item\n",
    "            allocated = True\n",
    "            break\n",
    "        \n",
    "    if not allocated:\n",
    "        result.append(item)\n",
    "        \n",
    "    return result"
   ]
  },
  {
   "cell_type": "code",
   "execution_count": 3,
   "metadata": {},
   "outputs": [],
   "source": [
    "def nextFit(result, item):\n",
    "    #print('nextFit')\n",
    "    allocated = False\n",
    "    if len(result) > 0:\n",
    "        bin = result[len(result) - 1]\n",
    "        if bin + item <= capasity:\n",
    "            result[len(result) - 1] += item\n",
    "            allocated = True\n",
    "        \n",
    "    if not allocated:\n",
    "        result.append(item)\n",
    "        \n",
    "    return result"
   ]
  },
  {
   "cell_type": "code",
   "execution_count": 4,
   "metadata": {},
   "outputs": [],
   "source": [
    "def bestFit(result, item):\n",
    "    #print('bestFit')\n",
    "    best = float('inf')\n",
    "    pos = None\n",
    "    for i, bin in enumerate(result):\n",
    "        if bin + item <= capasity:\n",
    "            space = capasity - (bin + item)\n",
    "            if space < best:\n",
    "                best = space\n",
    "                pos = i\n",
    "                break\n",
    "        \n",
    "    if pos == None:\n",
    "        result.append(item)\n",
    "    else:\n",
    "        result[pos] += item\n",
    "        \n",
    "    return result"
   ]
  },
  {
   "cell_type": "code",
   "execution_count": 5,
   "metadata": {},
   "outputs": [],
   "source": [
    "def worstFit(result, item):\n",
    "    #print('worstFit')\n",
    "    worst = -1\n",
    "    pos = None\n",
    "    for i, bin in enumerate(result):\n",
    "        if bin + item <= capasity:\n",
    "            space = capasity - (bin + item)\n",
    "            if space > worst:\n",
    "                worst = space\n",
    "                pos = i\n",
    "                break\n",
    "        \n",
    "    if pos == None:\n",
    "        result.append(item)\n",
    "    else:\n",
    "        result[pos] += item\n",
    "        \n",
    "    return result"
   ]
  },
  {
   "cell_type": "code",
   "execution_count": 6,
   "metadata": {},
   "outputs": [],
   "source": [
    "def fitness(result):\n",
    "    return np.sum(np.square(np.array(result) / capasity)) / len(result) "
   ]
  },
  {
   "cell_type": "code",
   "execution_count": 7,
   "metadata": {},
   "outputs": [],
   "source": [
    "def applyChromosome(items, chromosome):\n",
    "    result = []\n",
    "    idx = 0\n",
    "    while idx < len(items):\n",
    "        for heuristic in chromosome:\n",
    "            if idx < len(items):\n",
    "                heuristic(result, items[idx])\n",
    "                idx += 1\n",
    "                #print(result)\n",
    "            else:\n",
    "                break\n",
    "            \n",
    "    return result"
   ]
  },
  {
   "cell_type": "code",
   "execution_count": 8,
   "metadata": {},
   "outputs": [],
   "source": [
    "def generateChromosome():\n",
    "    chromosome = []\n",
    "    chromosomeLength = np.random.randint(low=MIN_CHROMOSOME_SIZE,high=MAX_CHROMOSOME_SIZE)\n",
    "    for i in range(chromosomeLength):\n",
    "        heuristicChoice = np.random.randint(len(heuristicList))\n",
    "        chromosome.append(heuristicList[heuristicChoice])\n",
    "        \n",
    "    return chromosome"
   ]
  },
  {
   "cell_type": "code",
   "execution_count": 9,
   "metadata": {},
   "outputs": [],
   "source": [
    "def createPopulation():\n",
    "    population = []\n",
    "    for i in range(POPULATION_SIZE):\n",
    "        population.append(generateChromosome())\n",
    "        \n",
    "    return population"
   ]
  },
  {
   "cell_type": "code",
   "execution_count": 10,
   "metadata": {},
   "outputs": [],
   "source": [
    "def getPopulationFitness(population):\n",
    "    populationResults = []\n",
    "    for individual in population:\n",
    "        populationResults.append(applyChromosome(items, individual))\n",
    "        \n",
    "    populationFitness = []\n",
    "    for result in populationResults:\n",
    "        populationFitness.append([fitness(result), len(result)])\n",
    "        \n",
    "    return populationFitness, populationResults"
   ]
  },
  {
   "cell_type": "code",
   "execution_count": 11,
   "metadata": {},
   "outputs": [],
   "source": [
    "def swap(chromosome, times=1):\n",
    "    clone = chromosome[:]\n",
    "    \n",
    "    for _ in range(times):\n",
    "        pos1 = np.random.randint(len(clone))\n",
    "        pos2 = np.random.randint(len(clone))\n",
    "        tmp = clone[pos1]\n",
    "        clone[pos1] = clone[pos2]\n",
    "        clone[pos2] = tmp\n",
    "        \n",
    "    return clone"
   ]
  },
  {
   "cell_type": "code",
   "execution_count": 12,
   "metadata": {},
   "outputs": [],
   "source": [
    "def tournamentSelector(population, tournament_size=5):\n",
    "    # Make the tournament\n",
    "    random_indicies = np.random.randint(len(population), size=tournament_size).tolist()\n",
    "    tournament = []\n",
    "    for idx, val in np.ndenumerate(random_indicies):\n",
    "        tournament.append(population[val])\n",
    "\n",
    "    # Run the tournament\n",
    "    fitnesss, results = getPopulationFitness(tournament)\n",
    "    \n",
    "    maxPos = np.argmax(fitnesss, axis=0)[0]\n",
    "    minPos = np.argmin(fitnesss, axis=0)[0]\n",
    "    \n",
    "    return [random_indicies[maxPos], fitnesss[maxPos]], [random_indicies[minPos], fitnesss[minPos]]"
   ]
  },
  {
   "cell_type": "code",
   "execution_count": 13,
   "metadata": {},
   "outputs": [
    {
     "name": "stdout",
     "output_type": "stream",
     "text": [
      "[0.8132962962962964, 27] [100, 98, 100, 99, 99, 100, 99, 94, 100, 99, 100, 100, 100, 100, 99, 99, 99, 95, 99, 67, 59, 58, 57, 55, 98, 76, 27]\n",
      "[0.8132962962962964, 27] [100, 98, 100, 99, 99, 100, 99, 94, 100, 99, 100, 100, 100, 100, 99, 99, 99, 95, 99, 67, 59, 58, 57, 55, 98, 76, 27]\n",
      "[0.8147555555555556, 27] [100, 98, 100, 99, 99, 100, 99, 94, 100, 99, 100, 100, 100, 100, 99, 99, 99, 100, 99, 60, 59, 58, 57, 55, 98, 78, 27]\n",
      "[0.8147555555555556, 27] [100, 98, 100, 99, 99, 100, 99, 94, 100, 99, 100, 100, 100, 100, 99, 99, 99, 100, 99, 60, 59, 58, 57, 55, 98, 78, 27]\n",
      "[0.8147555555555556, 27] [100, 98, 100, 99, 99, 100, 99, 94, 100, 99, 100, 100, 100, 100, 99, 99, 99, 100, 99, 60, 59, 58, 57, 55, 98, 78, 27]\n",
      "[0.8147555555555556, 27] [100, 98, 100, 99, 99, 100, 99, 94, 100, 99, 100, 100, 100, 100, 99, 99, 99, 100, 99, 60, 59, 58, 57, 55, 98, 78, 27]\n",
      "[0.8580615384615384, 26] [100, 94, 100, 99, 99, 100, 99, 94, 100, 99, 100, 100, 100, 100, 99, 99, 99, 100, 99, 87, 59, 58, 57, 55, 98, 82]\n",
      "=== Found known min:  26 ===\n"
     ]
    }
   ],
   "source": [
    "location = '../experiments/problems/'\n",
    "\n",
    "problems = [\n",
    "            ['bin1data/N1C1W1_A.BPP', 25],\n",
    "            ['bin1data/N1C1W1_O.BPP', 32],\n",
    "            ['bin1data/N1C1W1_P.BPP', 26],\n",
    "            ['bin1data/N1C1W1_T.BPP', 28],\n",
    "            ['bin1data/N1C1W1_G.BPP', 25],\n",
    "            ['bin1data/N1C1W1_K.BPP', 26],\n",
    "            ['bin1data/N1C1W1_S.BPP', 28],\n",
    "            ['bin1data/N1C1W1_F.BPP', 27],\n",
    "    \n",
    "            ['bin2data/N1W1B1R0.BPP', 18],\n",
    "            ['bin2data/N1W1B1R1.BPP', 18],\n",
    "            ['bin2data/N1W2B3R2.BPP', 10]\n",
    "        ]\n",
    "\n",
    "heuristicList = [\n",
    "    firstFit,\n",
    "    nextFit,\n",
    "    bestFit,\n",
    "    worstFit\n",
    "]\n",
    "\n",
    "problemIndex = 2\n",
    "problemSet = pd.read_csv(location + problems[problemIndex][0], header=None).values.tolist()\n",
    "\n",
    "PROBLEM_SIZE = problemSet.pop(0)[0]\n",
    "BIN_CAPACITY = problemSet.pop(0)[0]\n",
    "\n",
    "items = pd.DataFrame(problemSet)\n",
    "items = np.array(items[0])\n",
    "\n",
    "# items = [5, 3, 7, 2, 9, 4, 8, 9, 3, 5, 5, 3, 7, 2, 9, 4, 8, 9, 3, 5]\n",
    "assert PROBLEM_SIZE == len(items)\n",
    "\n",
    "capasity = BIN_CAPACITY\n",
    "\n",
    "MIN_CHROMOSOME_SIZE = 5\n",
    "MAX_CHROMOSOME_SIZE = PROBLEM_SIZE\n",
    "\n",
    "POPULATION_SIZE = 5\n",
    "GENERATIONS = 100\n",
    "\n",
    "population = createPopulation()\n",
    "#population = [[heuristicList[0]], [heuristicList[1]], [heuristicList[2]], [heuristicList[3]]]\n",
    "\n",
    "endResult = []\n",
    "\n",
    "for gen in range(GENERATIONS):    \n",
    "    best, worst = tournamentSelector(population, tournament_size=6)\n",
    "    if gen % 10 == 0:\n",
    "        fitnesss, results = getPopulationFitness(population)\n",
    "        max = np.argmax(fitnesss, axis=0)\n",
    "        endResult.append(results[max[0]])\n",
    "        print(fitnesss[max[0]], results[max[0]])\n",
    "        if problems[problemIndex][1] == fitnesss[max[0]][1]:\n",
    "            print('=== Found known min: ', problems[problemIndex][1], '===')\n",
    "            break\n",
    "    \n",
    "    population[worst[0]] = swap(population[best[0]], 1)\n"
   ]
  },
  {
   "cell_type": "code",
   "execution_count": 14,
   "metadata": {},
   "outputs": [],
   "source": [
    "assert np.sum(items) == np.sum(endResult[len(endResult) - 1])"
   ]
  }
 ],
 "metadata": {
  "kernelspec": {
   "display_name": "Python 3",
   "language": "python",
   "name": "python3"
  },
  "language_info": {
   "codemirror_mode": {
    "name": "ipython",
    "version": 3
   },
   "file_extension": ".py",
   "mimetype": "text/x-python",
   "name": "python",
   "nbconvert_exporter": "python",
   "pygments_lexer": "ipython3",
   "version": "3.5.2"
  }
 },
 "nbformat": 4,
 "nbformat_minor": 2
}
